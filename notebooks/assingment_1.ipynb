{
 "cells": [
  {
   "cell_type": "code",
   "execution_count": 1,
   "id": "e38b8535-3014-4a16-8e2c-e6ca2b8b4e66",
   "metadata": {},
   "outputs": [],
   "source": [
    "import apache_beam as beam\n"
   ]
  },
  {
   "cell_type": "code",
   "execution_count": 3,
   "id": "23fac8e4-210a-4386-86f2-79dc0a0596ba",
   "metadata": {},
   "outputs": [],
   "source": [
    "import re"
   ]
  },
  {
   "cell_type": "code",
   "execution_count": 6,
   "id": "822427c4-96bf-48a9-acc6-f6f6f6f7da52",
   "metadata": {},
   "outputs": [],
   "source": [
    "def Split(element):\n",
    "    return element.strip().split(' ')\n",
    "\n",
    "with beam.Pipeline() as p :\n",
    "    _=(\n",
    "        p\n",
    "        |'read' >> beam.io.ReadFromText('sample_data/ass1.txt')\n",
    "        |'split' >> beam.FlatMap(lambda element : re.findall(r'[A-Za-z\\']+', element))\n",
    "        #|'assign number' >> beam.combiners.Count.PerElement()\n",
    "        |'assign number' >> beam.Map(lambda element : (element,1))\n",
    "        #|'group count' >> beam.MapTuple(lambda word, count: '%s: %s' % (word, count))\n",
    "        |'count' >> beam.CombinePerKey(sum)\n",
    "        |'print format' >> beam.MapTuple(lambda word, count: '%s: %s' % (word, count))\n",
    "        |'write' >> beam.io.WriteToText('sample_output/ass1_output_temp')\n",
    "    )"
   ]
  },
  {
   "cell_type": "code",
   "execution_count": null,
   "id": "986b530f-9680-44c3-88ef-a2d92c574332",
   "metadata": {},
   "outputs": [],
   "source": [
    "# observations \n",
    "beam.combiners instead of beam.CombinePerKey\n",
    "MapTuple(lambda word, count: '%s: %s' % (word, count)) instead of a map function\n"
   ]
  },
  {
   "cell_type": "code",
   "execution_count": 9,
   "id": "acab07d9-94ee-4085-8205-6ab6bc9c385d",
   "metadata": {},
   "outputs": [
    {
     "data": {
      "text/plain": [
       "['sdfsdf', 'sdfsdf']"
      ]
     },
     "execution_count": 9,
     "metadata": {},
     "output_type": "execute_result"
    }
   ],
   "source": [
    "t = '    sdfsdf sdfsdf.  '\n",
    "import re\n",
    "\n",
    "re.findall(r'[A-Za-z\\']+', t)"
   ]
  }
 ],
 "metadata": {
  "kernelspec": {
   "display_name": "Python 3 (ipykernel)",
   "language": "python",
   "name": "python3"
  },
  "language_info": {
   "codemirror_mode": {
    "name": "ipython",
    "version": 3
   },
   "file_extension": ".py",
   "mimetype": "text/x-python",
   "name": "python",
   "nbconvert_exporter": "python",
   "pygments_lexer": "ipython3",
   "version": "3.8.13"
  }
 },
 "nbformat": 4,
 "nbformat_minor": 5
}
