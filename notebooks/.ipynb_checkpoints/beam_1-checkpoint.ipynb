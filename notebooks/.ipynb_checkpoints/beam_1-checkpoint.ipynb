{
 "cells": [
  {
   "cell_type": "code",
   "execution_count": 1,
   "id": "422b539d-0e61-48c2-9546-ff3c2d83df95",
   "metadata": {},
   "outputs": [],
   "source": [
    "import apache_beam as beam"
   ]
  },
  {
   "cell_type": "code",
   "execution_count": 2,
   "id": "a18483c0-85ba-4c5a-8161-4e1ee62d09c5",
   "metadata": {},
   "outputs": [
    {
     "ename": "TypeError",
     "evalue": "'module' object is not callable",
     "output_type": "error",
     "traceback": [
      "\u001b[0;31m---------------------------------------------------------------------------\u001b[0m",
      "\u001b[0;31mTypeError\u001b[0m                                 Traceback (most recent call last)",
      "\u001b[0;32m/var/folders/cx/lbwc4ymn09sg9v3txpff23l40000gn/T/ipykernel_33368/2988751079.py\u001b[0m in \u001b[0;36m<cell line: 1>\u001b[0;34m()\u001b[0m\n\u001b[0;32m----> 1\u001b[0;31m \u001b[0mp1\u001b[0m \u001b[0;34m=\u001b[0m \u001b[0mbeam\u001b[0m\u001b[0;34m.\u001b[0m\u001b[0mpipeline\u001b[0m\u001b[0;34m(\u001b[0m\u001b[0;34m)\u001b[0m \u001b[0;31m#creation of pipeline object\u001b[0m\u001b[0;34m\u001b[0m\u001b[0;34m\u001b[0m\u001b[0m\n\u001b[0m",
      "\u001b[0;31mTypeError\u001b[0m: 'module' object is not callable"
     ]
    }
   ],
   "source": [
    "p1 = beam.pipeline() #creation of pipeline object\n",
    "\n",
    "\n",
    "#creation of pcoolection that is created after execution of transformation\n",
    "attendace_count(\n",
    "    p1\n",
    "     |beam.io.ReadFromText('sample_data/dept_data.txt')\n",
    ")\n",
    "\n",
    "\n",
    "# ReadFromText\n",
    "## file_pattern (can contain *.txt to read all the files in one go)\n",
    "## min_bundles_size -> batching while reading ?\n",
    "## compression_type\n",
    "## strip_trailing_newlines\n",
    "## validate : verify presence of file while pipeline gets created \n",
    "## skip_header_lines : ignore headers"
   ]
  }
 ],
 "metadata": {
  "kernelspec": {
   "display_name": "Python 3 (ipykernel)",
   "language": "python",
   "name": "python3"
  },
  "language_info": {
   "codemirror_mode": {
    "name": "ipython",
    "version": 3
   },
   "file_extension": ".py",
   "mimetype": "text/x-python",
   "name": "python",
   "nbconvert_exporter": "python",
   "pygments_lexer": "ipython3",
   "version": "3.8.13"
  }
 },
 "nbformat": 4,
 "nbformat_minor": 5
}
